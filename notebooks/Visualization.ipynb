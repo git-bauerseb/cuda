{
 "cells": [
  {
   "cell_type": "code",
   "execution_count": 29,
   "id": "0ec38f7c-ef65-4cac-a084-120b799138c9",
   "metadata": {},
   "outputs": [],
   "source": [
    "import os\n",
    "import matplotlib.pyplot as plt\n",
    "import numpy as np"
   ]
  },
  {
   "cell_type": "code",
   "execution_count": 30,
   "id": "c7b3b1f9-156e-47be-9163-004143e18d75",
   "metadata": {},
   "outputs": [],
   "source": [
    "IMGS_DIR = '../imgs'"
   ]
  },
  {
   "cell_type": "markdown",
   "id": "aebf0f1a-267b-4ada-bf28-3d4823d00842",
   "metadata": {},
   "source": [
    "## Coalescing Bandwidth"
   ]
  },
  {
   "cell_type": "code",
   "execution_count": 39,
   "id": "c20b6909-00fb-4040-b2ee-2ded13ffb3a0",
   "metadata": {},
   "outputs": [],
   "source": [
    "offset_gb_s = [\n",
    "    83.084076,83.388924,83.416748,84.373947,84.459457,84.373947,83.333336,83.167000,83.416748,\n",
    "    84.488007,83.084076,83.111702,84.345482,84.889641,84.545151,83.222366,84.203438,84.260193,\n",
    "    83.892616,84.146751,83.111702,83.500336,84.545151,83.752098,83.361122,83.250084,83.472458,\n",
    "    83.333336,83.277817,83.640015,83.250084,84.288605,83.780167\n",
    "]\n",
    "\n",
    "stride_gb_s = [\n",
    "    84.918480,44.499821,30.048077,22.589680,18.147503,15.137753,12.980269,11.347647,11.329647,\n",
    "    11.321951,11.310681,11.290759,11.252645,11.227880,11.156730,11.127431,10.869565,10.623380,\n",
    "    10.252625,10.227877,9.720062,9.527439,9.126752,9.504258,8.680555,8.539126,8.241034,8.389825,\n",
    "    7.911643,7.886933,7.618700,8.230995\n",
    "]\n",
    "\n",
    "offset_x = np.arange(len(offset_gb_s))\n",
    "stride_x = np.arange(len(stride_gb_s))\n",
    "\n",
    "plt.style.use('default')\n",
    "fig, (ax1, ax2) = plt.subplots(2, 1, figsize=(10, 5), sharey=True)\n",
    "\n",
    "# Plot Offset Bandwidth\n",
    "ax1.plot(offset_x, offset_gb_s, marker='x', linestyle='-', color='royalblue', label='Offset Access', fillstyle='none')\n",
    "ax1.set_title('Offset Memory Access', fontsize=14, fontweight='bold')\n",
    "ax1.set_ylabel('Bandwidth (GB/s)', fontsize=12)\n",
    "ax1.tick_params(axis='x', which='both', bottom=False, top=False, labelbottom=False) # Hide x-axis labels\n",
    "ax1.legend()\n",
    "ax1.set_ylim(0, max(max(offset_gb_s), max(stride_gb_s)) * 1.1) \n",
    "\n",
    "# Plot Stride Bandwidth\n",
    "ax2.plot(stride_x, stride_gb_s, marker='^', linestyle='--', color='crimson', label='Strided Access', fillstyle='none')\n",
    "ax2.set_title('Strided Memory Access', fontsize=14, fontweight='bold')\n",
    "ax2.set_ylabel('Bandwidth (GB/s)', fontsize=12)\n",
    "ax2.legend()\n",
    "\n",
    "fig.suptitle('Bandwidth Quadro T1000', fontsize=16, fontweight='bold')\n",
    "plt.tight_layout(rect=[0, 0.03, 1, 0.95])\n",
    "plt.savefig(os.path.join(IMGS_DIR, 'coalescing.png'))\n",
    "plt.close()"
   ]
  },
  {
   "cell_type": "code",
   "execution_count": 81,
   "id": "2b40df1a-ee5f-4b3b-872d-2d186e83b309",
   "metadata": {},
   "outputs": [],
   "source": [
    "import os\n",
    "import numpy as np\n",
    "import matplotlib.pyplot as plt\n",
    "from scipy.fft import fft, ifft"
   ]
  },
  {
   "cell_type": "code",
   "execution_count": 85,
   "id": "3b9b3b5a-104e-4fee-a788-beef1de8164a",
   "metadata": {},
   "outputs": [],
   "source": [
    "x = np.linspace(-4, 4, 128)\n",
    "vals = np.piecewise(x, [x < -1, (x >= -1) & (x <= 1), x > 1.0], [0,1,0])\n",
    "ft = fft(vals)\n",
    "\n",
    "def read_fft():\n",
    "    vals = []\n",
    "    with open('../data/fft_box', 'r') as f:\n",
    "        for line in f:\n",
    "            vals.extend([float(x) for x in line.split(' ') if len(x.strip()) != 0])\n",
    "    return np.array(vals)\n",
    "\n",
    "def plot_ffts(fname=\"fft_comp.png\"):\n",
    "    x = np.linspace(-4, 4, 128)\n",
    "    vals = np.piecewise(x, [x < -1, (x >= -1) & (x <= 1), x > 1.0], [0, 1, 0])\n",
    "\n",
    "    ft_np = np.fft.fft(vals)\n",
    "    ft_own = read_fft()\n",
    "\n",
    "    fig, axes = plt.subplots(1, 3, figsize=(18, 6))\n",
    "\n",
    "    # Original Signal\n",
    "    axes[0].plot(x, vals, color='dodgerblue', lw=2, label='Signal')\n",
    "    axes[0].grid(True, ls='--', alpha=0.7)\n",
    "    axes[0].set_ylim(-0.2, 1.2)\n",
    "    axes[0].legend()\n",
    "\n",
    "    # Freqs for FFT plots\n",
    "    N = len(vals)\n",
    "    s_sp = x[1] - x[0]\n",
    "    freqs = np.fft.fftfreq(N, d=s_sp)\n",
    "    freqs_s = np.fft.fftshift(freqs)\n",
    "\n",
    "    # NumPy FFT\n",
    "    axes[1].plot(freqs_s, np.fft.fftshift(np.real(ft_np)),\n",
    "                 color='mediumseagreen', lw=2, label='NumPy FFT')\n",
    "    axes[1].grid(True, ls='--', alpha=0.7)\n",
    "    axes[1].legend()\n",
    "\n",
    "    # Own FFT\n",
    "    axes[2].plot(freqs_s, np.fft.fftshift(np.real(ft_own)),\n",
    "                 color='darkorange', lw=2, label='FFT')\n",
    "    axes[2].grid(True, ls='--', alpha=0.7)\n",
    "    axes[2].legend()\n",
    "\n",
    "\n",
    "    plt.tight_layout(rect=[0, 0.03, 1, 0.95])\n",
    "    try:\n",
    "        save_path = os.path.join(os.getcwd(), fname)\n",
    "        plt.savefig(save_path, dpi=300, bbox_inches='tight')\n",
    "    except Exception as e:\n",
    "        print(f\"Error saving plot: {e}\")\n",
    "    finally:\n",
    "        plt.close(fig)\n",
    "\n",
    "if __name__ == \"__main__\":\n",
    "    plot_ffts(\"fft_comp.png\")"
   ]
  }
 ],
 "metadata": {
  "kernelspec": {
   "display_name": "exp (Environment)",
   "language": "python",
   "name": "exp"
  },
  "language_info": {
   "codemirror_mode": {
    "name": "ipython",
    "version": 3
   },
   "file_extension": ".py",
   "mimetype": "text/x-python",
   "name": "python",
   "nbconvert_exporter": "python",
   "pygments_lexer": "ipython3",
   "version": "3.13.5"
  }
 },
 "nbformat": 4,
 "nbformat_minor": 5
}
